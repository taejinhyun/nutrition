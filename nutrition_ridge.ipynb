{
 "cells": [
  {
   "cell_type": "markdown",
   "metadata": {},
   "source": [
    "|num|변수|유형|길이|레이블|항목값|조사도구|척도|\n",
    "|:-:|:---|---|---|:----|:----|:-------|---|\n",
    "|1|ID|문자|10|개인 아이디|||명목(key)|\n",
    "|2|sex|숫자|8|성별|1. 남자<BR>2. 여자|설문조사|명목|\n",
    "|3|age|숫자|8|만나이|1~79. 1~79세<BR>80. 80세이상|설문조사|순서+명목(80세이상)|\n",
    "|4|ho_incm|숫자|8|소득4분위수(가구)|1. 하<BR>2. 중하<BR>3. 중상<BR>4. 상|설문조사|순서|\n",
    "|5|edu|숫자|8|교육수준 재분류 코드|1. 초졸이하<BR>2. 중졸<BR>3. 고졸<BR>4. 대졸이상|설문조사|순서|\n",
    "|6|occp|숫자|8|직업재분류 및 실업/비경제활동인구상태 코드|1. 관리자, 전문가 및 관련 종사자<BR>2. 사무종사자<BR>3. 서비스 및 판매 종사자<BR>4. 농림어업 숙련 종사자<BR>5. 기능원, 장치․기계조작 및 조립종사자<BR>6. 단순노무종사자<BR>7. 무직(주부, 학생 등)|설문조사|명목|\n",
    "|7|marri_1|숫자|8|결혼여부|1. 기혼<BR>2. 미혼<BR>9. 모름, 무응답|설문조사|명목|\n",
    "|8|sm_presnt|숫자|8|현재흡연율|0. 아니오<BR>1. 예|설문조사|명목, 더미|\n",
    "|9|dr_high|숫자|8|고위험음주여부|0. 아니오<BR>1. 예|설문조사|명목, 더미|\n",
    "|10|pa_aerobic|숫자|8|유산소신체활동실천여부|0. 아니오<BR>1. 예|설문조사|명목, 더미|\n",
    "|11|pa_walk|숫자|8|걷기실천여부|0. 아니오<BR>1. 예|설문조사|명목, 더미|\n",
    "|12|pa_muscle|숫자|8|근력운동여부|0. 아니오<BR>1. 예|설문조사|명목, 더미|\n",
    "|13|HE_ht|숫자|8|신장|□□□.□cm|검진조사|비율|\n",
    "|14|HE_wt|숫자|8|체중|□□□.□ kg|검진조사|비율|\n",
    "|15|HE_wc|숫자|8|허리둘레|□□□.□ cm|검진조사|비율|\n",
    "|16|HE_BMI|숫자|8|체질량지수|□□□.□ kg/m2|검진조사|비율|\n",
    "|17|HE_HP|숫자|8|고혈압 유병여부(19세이상)|1. 정상<BR>2. 고혈압전단계<BR>3.고혈압|수축기혈압이 140이상이거나 이완기혈압이 90이상인 여부<BR>*고혈압 진단기준|명목, 더미|\n",
    "|18|HE_DM|숫자|8|당뇨병 유병여부(19세이상)|1. 정상<BR>2. 공복혈당장애<BR>3.당뇨병|공복혈당≥ 126 또는 당뇨병약 복용 또는 인슐린주사 투여 또는 의사진단자|명목, 더미|\n",
    "|19|HE_HCHOL|숫자|8|고콜레스테롤혈증 유병여부(19세이상)|0. 아니오<BR>1. 예|공복시 총콜레스테롤≥240㎎/㎗ 또는 콜레스테롤약 복용|명목, 더미|\n",
    "|20|GS_use|숫자|8|주로 사용하는 손|1. 오른손<BR>2. 왼손<BR>3. 양손<BR>8. 비해당(10세미만)<BR>9. 무응답(미검진)||명목|\n",
    "|21|N_WAT_C|숫자|8|물섭취량(컵)|물섭취량(컵: 200ml)|24시간 회상법으로 조사한 식품섭취조사의 식품을 환산한 결과<BR>*자세한 내용은 국민건강영양조사(https://knhanes.cdc.go.kr/knhanes/main.do)에서 확인가능|비율|\n",
    "|22|N_INTK|숫자|8|식품섭취량(g)|식품별 섭취량(g)||비율|\n",
    "|23|N_EN|숫자|8|에너지섭취량(Kcal)|에너지섭취량(Kcal)||비율|\n",
    "|24|N_WATER|숫자|8|수분섭취량(g)|수분섭취량(g)||비율|\n",
    "|25|N_PROT|숫자|8|단백질섭취량(g)|단백질섭취량(g)||비율|\n",
    "|26|N_FAT|숫자|8|지방섭취량(g)|지방섭취량(g)||비율|\n",
    "|27|N_SFA|숫자|8|포화지방산 섭취량(g)|포화지방산 섭취량(g)||비율|\n",
    "|28|N_MUFA|숫자|8|단일불포화지방산 섭취량(g)|단일불포화지방산 섭취량(g)||비율|\n",
    "|29|N_PUFA|숫자|8|다가불포화지방산 섭취량(g)|다가불포화지방산 섭취량(g)||비율|\n",
    "|30|N_N3|숫자|8|n-3계 지방산 섭취량(g)|n-3계 지방산 섭취량(g)||비율|\n",
    "|31|N_N6|숫자|8|n-6계 지방산 섭취량(g)|n-6계 지방산 섭취량(g)||비율|\n",
    "|32|N_chol|숫자|8|콜레스테롤섭취량(mg)|콜레스테롤섭취량(mg)||비율|\n",
    "|33|N_CHO|숫자|8|탄수화물섭취량(g)|탄수화물섭취량(g)||비율|\n",
    "|34|N_tdf|숫자|8|식이섬유섭취량(g)|식이섬유섭취량(g)||비율|\n",
    "|35|N_CA|숫자|8|칼슘섭취량(mg)|칼슘섭취량(mg)||비율|\n",
    "|36|N_PHOS|숫자|8|인섭취량(mg)|인섭취량(mg)||비율|\n",
    "|37|N_FE|숫자|8|철섭취량(mg)|철섭취량(mg)||비율|\n",
    "|38|N_NA|숫자|8|나트륨섭취량(mg)|나트륨섭취량(mg)||비율|\n",
    "|39|N_K|숫자|8|칼륨섭취량(mg)|칼륨섭취량(mg)||비율|\n",
    "|40|N_VA|숫자|8|비타민A섭취량(μgRE)|비타민A섭취량(μgRE)||비율|\n",
    "|41|N_CAROT|숫자|8|카로틴섭취량(μg)|카로틴섭취량(μg)||비율|\n",
    "|42|N_RETIN|숫자|8|레티놀섭취량(μg)|레티놀섭취량(μg)||비율|\n",
    "|43|N_B1|숫자|8|티아민섭취량(mg)|티아민섭취량(mg)||비율|\n",
    "|44|N_B2|숫자|8|리보플라빈섭취량(mg)|리보플라빈섭취량(mg)||비율|\n",
    "|45|N_NIAC|숫자|8|나이아신섭취량(mg)|나이아신섭취량(mg)||비율|\n",
    "|46|N_VITC|숫자|8|비타민C섭취량(mg)|비타민C섭취량(mg)||비율|\n",
    "|47|max_grip_rt|숫자|8|오른손 최대악력|1~3차 악력측정값 중 최대값|타겟변수는 양손 최대악력중 최대값으로 사용|비율|\n",
    "|48|max_grip_lt|숫자|8|왼손 최대악력|||비율|\n"
   ]
  },
  {
   "cell_type": "code",
   "execution_count": 1,
   "metadata": {},
   "outputs": [],
   "source": [
    "# 자료 불러오기\n",
    "import pandas as pd\n",
    "import matplotlib.pyplot as plt\n",
    "df = pd.read_sas('grip_str.sas7bdat').dropna() "
   ]
  },
  {
   "cell_type": "code",
   "execution_count": 2,
   "metadata": {
    "scrolled": true
   },
   "outputs": [
    {
     "data": {
      "text/html": [
       "<div>\n",
       "<style scoped>\n",
       "    .dataframe tbody tr th:only-of-type {\n",
       "        vertical-align: middle;\n",
       "    }\n",
       "\n",
       "    .dataframe tbody tr th {\n",
       "        vertical-align: top;\n",
       "    }\n",
       "\n",
       "    .dataframe thead th {\n",
       "        text-align: right;\n",
       "    }\n",
       "</style>\n",
       "<table border=\"1\" class=\"dataframe\">\n",
       "  <thead>\n",
       "    <tr style=\"text-align: right;\">\n",
       "      <th></th>\n",
       "      <th>ID</th>\n",
       "      <th>sex</th>\n",
       "      <th>age</th>\n",
       "      <th>ho_incm</th>\n",
       "      <th>edu</th>\n",
       "      <th>occp</th>\n",
       "      <th>marri_1</th>\n",
       "      <th>sm_presnt</th>\n",
       "      <th>dr_high</th>\n",
       "      <th>pa_aerobic</th>\n",
       "      <th>...</th>\n",
       "      <th>N_K</th>\n",
       "      <th>N_VA</th>\n",
       "      <th>N_CAROT</th>\n",
       "      <th>N_RETIN</th>\n",
       "      <th>N_B1</th>\n",
       "      <th>N_B2</th>\n",
       "      <th>N_NIAC</th>\n",
       "      <th>N_VITC</th>\n",
       "      <th>max_grip_rt</th>\n",
       "      <th>max_grip_lt</th>\n",
       "    </tr>\n",
       "  </thead>\n",
       "  <tbody>\n",
       "    <tr>\n",
       "      <th>0</th>\n",
       "      <td>b'A209716213'</td>\n",
       "      <td>2.0</td>\n",
       "      <td>30.0</td>\n",
       "      <td>3.0</td>\n",
       "      <td>4.0</td>\n",
       "      <td>7.0</td>\n",
       "      <td>2.0</td>\n",
       "      <td>0.0</td>\n",
       "      <td>0.0</td>\n",
       "      <td>1.0</td>\n",
       "      <td>...</td>\n",
       "      <td>3035.899499</td>\n",
       "      <td>1335.998584</td>\n",
       "      <td>7476.633795</td>\n",
       "      <td>88.505252</td>\n",
       "      <td>2.524458</td>\n",
       "      <td>1.702372</td>\n",
       "      <td>13.792368</td>\n",
       "      <td>69.967986</td>\n",
       "      <td>28.4</td>\n",
       "      <td>26.4</td>\n",
       "    </tr>\n",
       "    <tr>\n",
       "      <th>2</th>\n",
       "      <td>b'A209716216'</td>\n",
       "      <td>1.0</td>\n",
       "      <td>29.0</td>\n",
       "      <td>3.0</td>\n",
       "      <td>4.0</td>\n",
       "      <td>7.0</td>\n",
       "      <td>2.0</td>\n",
       "      <td>0.0</td>\n",
       "      <td>0.0</td>\n",
       "      <td>1.0</td>\n",
       "      <td>...</td>\n",
       "      <td>5018.153615</td>\n",
       "      <td>2181.289291</td>\n",
       "      <td>11339.248496</td>\n",
       "      <td>291.693538</td>\n",
       "      <td>3.853337</td>\n",
       "      <td>3.065095</td>\n",
       "      <td>22.947486</td>\n",
       "      <td>65.287764</td>\n",
       "      <td>50.6</td>\n",
       "      <td>47.8</td>\n",
       "    </tr>\n",
       "    <tr>\n",
       "      <th>3</th>\n",
       "      <td>b'A209724716'</td>\n",
       "      <td>1.0</td>\n",
       "      <td>65.0</td>\n",
       "      <td>1.0</td>\n",
       "      <td>1.0</td>\n",
       "      <td>3.0</td>\n",
       "      <td>1.0</td>\n",
       "      <td>1.0</td>\n",
       "      <td>0.0</td>\n",
       "      <td>1.0</td>\n",
       "      <td>...</td>\n",
       "      <td>1952.808521</td>\n",
       "      <td>452.073639</td>\n",
       "      <td>2102.115596</td>\n",
       "      <td>100.982500</td>\n",
       "      <td>1.164780</td>\n",
       "      <td>1.098967</td>\n",
       "      <td>11.789950</td>\n",
       "      <td>43.467542</td>\n",
       "      <td>33.1</td>\n",
       "      <td>33.6</td>\n",
       "    </tr>\n",
       "    <tr>\n",
       "      <th>4</th>\n",
       "      <td>b'A209731516'</td>\n",
       "      <td>1.0</td>\n",
       "      <td>66.0</td>\n",
       "      <td>2.0</td>\n",
       "      <td>4.0</td>\n",
       "      <td>7.0</td>\n",
       "      <td>1.0</td>\n",
       "      <td>0.0</td>\n",
       "      <td>0.0</td>\n",
       "      <td>1.0</td>\n",
       "      <td>...</td>\n",
       "      <td>2339.124348</td>\n",
       "      <td>854.972445</td>\n",
       "      <td>4817.173801</td>\n",
       "      <td>51.367319</td>\n",
       "      <td>1.015765</td>\n",
       "      <td>0.579514</td>\n",
       "      <td>10.199538</td>\n",
       "      <td>56.882524</td>\n",
       "      <td>36.5</td>\n",
       "      <td>35.4</td>\n",
       "    </tr>\n",
       "    <tr>\n",
       "      <th>6</th>\n",
       "      <td>b'A209736615'</td>\n",
       "      <td>2.0</td>\n",
       "      <td>41.0</td>\n",
       "      <td>3.0</td>\n",
       "      <td>3.0</td>\n",
       "      <td>7.0</td>\n",
       "      <td>1.0</td>\n",
       "      <td>0.0</td>\n",
       "      <td>1.0</td>\n",
       "      <td>1.0</td>\n",
       "      <td>...</td>\n",
       "      <td>2214.850076</td>\n",
       "      <td>276.389343</td>\n",
       "      <td>1509.860228</td>\n",
       "      <td>19.627705</td>\n",
       "      <td>0.932423</td>\n",
       "      <td>0.742740</td>\n",
       "      <td>16.719703</td>\n",
       "      <td>146.408221</td>\n",
       "      <td>31.7</td>\n",
       "      <td>29.6</td>\n",
       "    </tr>\n",
       "  </tbody>\n",
       "</table>\n",
       "<p>5 rows × 48 columns</p>\n",
       "</div>"
      ],
      "text/plain": [
       "              ID  sex   age  ho_incm  edu  occp  marri_1  sm_presnt  dr_high  \\\n",
       "0  b'A209716213'  2.0  30.0      3.0  4.0   7.0      2.0        0.0      0.0   \n",
       "2  b'A209716216'  1.0  29.0      3.0  4.0   7.0      2.0        0.0      0.0   \n",
       "3  b'A209724716'  1.0  65.0      1.0  1.0   3.0      1.0        1.0      0.0   \n",
       "4  b'A209731516'  1.0  66.0      2.0  4.0   7.0      1.0        0.0      0.0   \n",
       "6  b'A209736615'  2.0  41.0      3.0  3.0   7.0      1.0        0.0      1.0   \n",
       "\n",
       "   pa_aerobic     ...               N_K         N_VA       N_CAROT  \\\n",
       "0         1.0     ...       3035.899499  1335.998584   7476.633795   \n",
       "2         1.0     ...       5018.153615  2181.289291  11339.248496   \n",
       "3         1.0     ...       1952.808521   452.073639   2102.115596   \n",
       "4         1.0     ...       2339.124348   854.972445   4817.173801   \n",
       "6         1.0     ...       2214.850076   276.389343   1509.860228   \n",
       "\n",
       "      N_RETIN      N_B1      N_B2     N_NIAC      N_VITC  max_grip_rt  \\\n",
       "0   88.505252  2.524458  1.702372  13.792368   69.967986         28.4   \n",
       "2  291.693538  3.853337  3.065095  22.947486   65.287764         50.6   \n",
       "3  100.982500  1.164780  1.098967  11.789950   43.467542         33.1   \n",
       "4   51.367319  1.015765  0.579514  10.199538   56.882524         36.5   \n",
       "6   19.627705  0.932423  0.742740  16.719703  146.408221         31.7   \n",
       "\n",
       "   max_grip_lt  \n",
       "0         26.4  \n",
       "2         47.8  \n",
       "3         33.6  \n",
       "4         35.4  \n",
       "6         29.6  \n",
       "\n",
       "[5 rows x 48 columns]"
      ]
     },
     "execution_count": 2,
     "metadata": {},
     "output_type": "execute_result"
    }
   ],
   "source": [
    "df.head()"
   ]
  },
  {
   "cell_type": "code",
   "execution_count": 3,
   "metadata": {},
   "outputs": [
    {
     "data": {
      "text/plain": [
       "80.0"
      ]
     },
     "execution_count": 3,
     "metadata": {},
     "output_type": "execute_result"
    }
   ],
   "source": [
    "df.age.max()"
   ]
  },
  {
   "cell_type": "code",
   "execution_count": 4,
   "metadata": {},
   "outputs": [
    {
     "data": {
      "text/plain": [
       "19.0"
      ]
     },
     "execution_count": 4,
     "metadata": {},
     "output_type": "execute_result"
    }
   ],
   "source": [
    "df.age.min()"
   ]
  },
  {
   "cell_type": "code",
   "execution_count": 5,
   "metadata": {},
   "outputs": [],
   "source": [
    "labels = [\"{0} - {1}\".format(i, i + 10) for i in range(19, 80, 10)]"
   ]
  },
  {
   "cell_type": "code",
   "execution_count": 6,
   "metadata": {},
   "outputs": [
    {
     "data": {
      "text/plain": [
       "['19 - 29', '29 - 39', '39 - 49', '49 - 59', '59 - 69', '69 - 79', '79 - 89']"
      ]
     },
     "execution_count": 6,
     "metadata": {},
     "output_type": "execute_result"
    }
   ],
   "source": [
    "labels"
   ]
  },
  {
   "cell_type": "code",
   "execution_count": 7,
   "metadata": {},
   "outputs": [],
   "source": [
    "df['age']=df.age.astype('int64')"
   ]
  },
  {
   "cell_type": "code",
   "execution_count": 8,
   "metadata": {},
   "outputs": [],
   "source": [
    "df['age'] = pd.cut(df.age, range(19, 90, 10), right=False, labels=labels)"
   ]
  },
  {
   "cell_type": "code",
   "execution_count": 9,
   "metadata": {},
   "outputs": [
    {
     "data": {
      "text/html": [
       "<div>\n",
       "<style scoped>\n",
       "    .dataframe tbody tr th:only-of-type {\n",
       "        vertical-align: middle;\n",
       "    }\n",
       "\n",
       "    .dataframe tbody tr th {\n",
       "        vertical-align: top;\n",
       "    }\n",
       "\n",
       "    .dataframe thead th {\n",
       "        text-align: right;\n",
       "    }\n",
       "</style>\n",
       "<table border=\"1\" class=\"dataframe\">\n",
       "  <thead>\n",
       "    <tr style=\"text-align: right;\">\n",
       "      <th></th>\n",
       "      <th>ID</th>\n",
       "      <th>sex</th>\n",
       "      <th>age</th>\n",
       "      <th>ho_incm</th>\n",
       "      <th>edu</th>\n",
       "      <th>occp</th>\n",
       "      <th>marri_1</th>\n",
       "      <th>sm_presnt</th>\n",
       "      <th>dr_high</th>\n",
       "      <th>pa_aerobic</th>\n",
       "      <th>...</th>\n",
       "      <th>N_K</th>\n",
       "      <th>N_VA</th>\n",
       "      <th>N_CAROT</th>\n",
       "      <th>N_RETIN</th>\n",
       "      <th>N_B1</th>\n",
       "      <th>N_B2</th>\n",
       "      <th>N_NIAC</th>\n",
       "      <th>N_VITC</th>\n",
       "      <th>max_grip_rt</th>\n",
       "      <th>max_grip_lt</th>\n",
       "    </tr>\n",
       "  </thead>\n",
       "  <tbody>\n",
       "    <tr>\n",
       "      <th>0</th>\n",
       "      <td>b'A209716213'</td>\n",
       "      <td>2.0</td>\n",
       "      <td>29 - 39</td>\n",
       "      <td>3.0</td>\n",
       "      <td>4.0</td>\n",
       "      <td>7.0</td>\n",
       "      <td>2.0</td>\n",
       "      <td>0.0</td>\n",
       "      <td>0.0</td>\n",
       "      <td>1.0</td>\n",
       "      <td>...</td>\n",
       "      <td>3035.899499</td>\n",
       "      <td>1335.998584</td>\n",
       "      <td>7476.633795</td>\n",
       "      <td>88.505252</td>\n",
       "      <td>2.524458</td>\n",
       "      <td>1.702372</td>\n",
       "      <td>13.792368</td>\n",
       "      <td>69.967986</td>\n",
       "      <td>28.4</td>\n",
       "      <td>26.4</td>\n",
       "    </tr>\n",
       "    <tr>\n",
       "      <th>2</th>\n",
       "      <td>b'A209716216'</td>\n",
       "      <td>1.0</td>\n",
       "      <td>29 - 39</td>\n",
       "      <td>3.0</td>\n",
       "      <td>4.0</td>\n",
       "      <td>7.0</td>\n",
       "      <td>2.0</td>\n",
       "      <td>0.0</td>\n",
       "      <td>0.0</td>\n",
       "      <td>1.0</td>\n",
       "      <td>...</td>\n",
       "      <td>5018.153615</td>\n",
       "      <td>2181.289291</td>\n",
       "      <td>11339.248496</td>\n",
       "      <td>291.693538</td>\n",
       "      <td>3.853337</td>\n",
       "      <td>3.065095</td>\n",
       "      <td>22.947486</td>\n",
       "      <td>65.287764</td>\n",
       "      <td>50.6</td>\n",
       "      <td>47.8</td>\n",
       "    </tr>\n",
       "    <tr>\n",
       "      <th>3</th>\n",
       "      <td>b'A209724716'</td>\n",
       "      <td>1.0</td>\n",
       "      <td>59 - 69</td>\n",
       "      <td>1.0</td>\n",
       "      <td>1.0</td>\n",
       "      <td>3.0</td>\n",
       "      <td>1.0</td>\n",
       "      <td>1.0</td>\n",
       "      <td>0.0</td>\n",
       "      <td>1.0</td>\n",
       "      <td>...</td>\n",
       "      <td>1952.808521</td>\n",
       "      <td>452.073639</td>\n",
       "      <td>2102.115596</td>\n",
       "      <td>100.982500</td>\n",
       "      <td>1.164780</td>\n",
       "      <td>1.098967</td>\n",
       "      <td>11.789950</td>\n",
       "      <td>43.467542</td>\n",
       "      <td>33.1</td>\n",
       "      <td>33.6</td>\n",
       "    </tr>\n",
       "    <tr>\n",
       "      <th>4</th>\n",
       "      <td>b'A209731516'</td>\n",
       "      <td>1.0</td>\n",
       "      <td>59 - 69</td>\n",
       "      <td>2.0</td>\n",
       "      <td>4.0</td>\n",
       "      <td>7.0</td>\n",
       "      <td>1.0</td>\n",
       "      <td>0.0</td>\n",
       "      <td>0.0</td>\n",
       "      <td>1.0</td>\n",
       "      <td>...</td>\n",
       "      <td>2339.124348</td>\n",
       "      <td>854.972445</td>\n",
       "      <td>4817.173801</td>\n",
       "      <td>51.367319</td>\n",
       "      <td>1.015765</td>\n",
       "      <td>0.579514</td>\n",
       "      <td>10.199538</td>\n",
       "      <td>56.882524</td>\n",
       "      <td>36.5</td>\n",
       "      <td>35.4</td>\n",
       "    </tr>\n",
       "    <tr>\n",
       "      <th>6</th>\n",
       "      <td>b'A209736615'</td>\n",
       "      <td>2.0</td>\n",
       "      <td>39 - 49</td>\n",
       "      <td>3.0</td>\n",
       "      <td>3.0</td>\n",
       "      <td>7.0</td>\n",
       "      <td>1.0</td>\n",
       "      <td>0.0</td>\n",
       "      <td>1.0</td>\n",
       "      <td>1.0</td>\n",
       "      <td>...</td>\n",
       "      <td>2214.850076</td>\n",
       "      <td>276.389343</td>\n",
       "      <td>1509.860228</td>\n",
       "      <td>19.627705</td>\n",
       "      <td>0.932423</td>\n",
       "      <td>0.742740</td>\n",
       "      <td>16.719703</td>\n",
       "      <td>146.408221</td>\n",
       "      <td>31.7</td>\n",
       "      <td>29.6</td>\n",
       "    </tr>\n",
       "  </tbody>\n",
       "</table>\n",
       "<p>5 rows × 48 columns</p>\n",
       "</div>"
      ],
      "text/plain": [
       "              ID  sex      age  ho_incm  edu  occp  marri_1  sm_presnt  \\\n",
       "0  b'A209716213'  2.0  29 - 39      3.0  4.0   7.0      2.0        0.0   \n",
       "2  b'A209716216'  1.0  29 - 39      3.0  4.0   7.0      2.0        0.0   \n",
       "3  b'A209724716'  1.0  59 - 69      1.0  1.0   3.0      1.0        1.0   \n",
       "4  b'A209731516'  1.0  59 - 69      2.0  4.0   7.0      1.0        0.0   \n",
       "6  b'A209736615'  2.0  39 - 49      3.0  3.0   7.0      1.0        0.0   \n",
       "\n",
       "   dr_high  pa_aerobic     ...               N_K         N_VA       N_CAROT  \\\n",
       "0      0.0         1.0     ...       3035.899499  1335.998584   7476.633795   \n",
       "2      0.0         1.0     ...       5018.153615  2181.289291  11339.248496   \n",
       "3      0.0         1.0     ...       1952.808521   452.073639   2102.115596   \n",
       "4      0.0         1.0     ...       2339.124348   854.972445   4817.173801   \n",
       "6      1.0         1.0     ...       2214.850076   276.389343   1509.860228   \n",
       "\n",
       "      N_RETIN      N_B1      N_B2     N_NIAC      N_VITC  max_grip_rt  \\\n",
       "0   88.505252  2.524458  1.702372  13.792368   69.967986         28.4   \n",
       "2  291.693538  3.853337  3.065095  22.947486   65.287764         50.6   \n",
       "3  100.982500  1.164780  1.098967  11.789950   43.467542         33.1   \n",
       "4   51.367319  1.015765  0.579514  10.199538   56.882524         36.5   \n",
       "6   19.627705  0.932423  0.742740  16.719703  146.408221         31.7   \n",
       "\n",
       "   max_grip_lt  \n",
       "0         26.4  \n",
       "2         47.8  \n",
       "3         33.6  \n",
       "4         35.4  \n",
       "6         29.6  \n",
       "\n",
       "[5 rows x 48 columns]"
      ]
     },
     "execution_count": 9,
     "metadata": {},
     "output_type": "execute_result"
    }
   ],
   "source": [
    "df.head()"
   ]
  },
  {
   "cell_type": "code",
   "execution_count": 10,
   "metadata": {},
   "outputs": [],
   "source": [
    "df=df.drop(['ID'],axis=1)"
   ]
  },
  {
   "cell_type": "code",
   "execution_count": 11,
   "metadata": {},
   "outputs": [],
   "source": [
    "cat_list=['sex','ho_incm','edu','occp','marri_1','sm_presnt','dr_high','pa_aerobic','pa_walk','pa_muscle','HE_HP','HE_DM','HE_HCHOL','GS_use']"
   ]
  },
  {
   "cell_type": "code",
   "execution_count": 12,
   "metadata": {},
   "outputs": [],
   "source": [
    "for i in cat_list:\n",
    "    df[i]=pd.Categorical(df[i])"
   ]
  },
  {
   "cell_type": "code",
   "execution_count": 13,
   "metadata": {},
   "outputs": [],
   "source": [
    "df=pd.get_dummies(df)"
   ]
  },
  {
   "cell_type": "code",
   "execution_count": 14,
   "metadata": {},
   "outputs": [
    {
     "data": {
      "text/plain": [
       "Index(['HE_ht', 'HE_wt', 'HE_wc', 'HE_BMI', 'N_WAT_C', 'N_INTK', 'N_EN',\n",
       "       'N_WATER', 'N_PROT', 'N_FAT', 'N_SFA', 'N_MUFA', 'N_PUFA', 'N_N3',\n",
       "       'N_N6', 'N_chol', 'N_CHO', 'N_tdf', 'N_CA', 'N_PHOS', 'N_FE', 'N_NA',\n",
       "       'N_K', 'N_VA', 'N_CAROT', 'N_RETIN', 'N_B1', 'N_B2', 'N_NIAC', 'N_VITC',\n",
       "       'max_grip_rt', 'max_grip_lt', 'sex_1.0', 'sex_2.0', 'age_19 - 29',\n",
       "       'age_29 - 39', 'age_39 - 49', 'age_49 - 59', 'age_59 - 69',\n",
       "       'age_69 - 79', 'age_79 - 89', 'ho_incm_1.0', 'ho_incm_2.0',\n",
       "       'ho_incm_3.0', 'ho_incm_4.0', 'edu_1.0', 'edu_2.0', 'edu_3.0',\n",
       "       'edu_4.0', 'occp_1.0', 'occp_2.0', 'occp_3.0', 'occp_4.0', 'occp_5.0',\n",
       "       'occp_6.0', 'occp_7.0', 'marri_1_1.0', 'marri_1_2.0', 'sm_presnt_0.0',\n",
       "       'sm_presnt_1.0', 'dr_high_0.0', 'dr_high_1.0', 'pa_aerobic_0.0',\n",
       "       'pa_aerobic_1.0', 'pa_walk_0.0', 'pa_walk_1.0', 'pa_muscle_0.0',\n",
       "       'pa_muscle_1.0', 'HE_HP_1.0', 'HE_HP_2.0', 'HE_HP_3.0', 'HE_DM_1.0',\n",
       "       'HE_DM_2.0', 'HE_DM_3.0', 'HE_HCHOL_0.0', 'HE_HCHOL_1.0', 'GS_use_1.0',\n",
       "       'GS_use_2.0', 'GS_use_3.0'],\n",
       "      dtype='object')"
      ]
     },
     "execution_count": 14,
     "metadata": {},
     "output_type": "execute_result"
    }
   ],
   "source": [
    "df.columns"
   ]
  },
  {
   "cell_type": "code",
   "execution_count": 15,
   "metadata": {},
   "outputs": [],
   "source": [
    "RANDOM_STATE=11"
   ]
  },
  {
   "cell_type": "code",
   "execution_count": 16,
   "metadata": {},
   "outputs": [],
   "source": [
    "target = df[['max_grip_rt', 'max_grip_lt']].max(axis = 1)\n",
    "features = df.drop(columns = ['max_grip_rt', 'max_grip_lt'], axis = 1)"
   ]
  },
  {
   "cell_type": "code",
   "execution_count": 17,
   "metadata": {},
   "outputs": [],
   "source": [
    "# Train데이터와 Test를 나눈다.\n",
    "from sklearn.model_selection import train_test_split\n",
    "X_train, X_test, y_train, y_test = train_test_split(features, target, random_state=RANDOM_STATE)"
   ]
  },
  {
   "cell_type": "code",
   "execution_count": 18,
   "metadata": {},
   "outputs": [],
   "source": [
    "from sklearn.pipeline import Pipeline\n",
    "from sklearn.pipeline import make_pipeline\n",
    "from sklearn.preprocessing import StandardScaler\n",
    "from sklearn.preprocessing import MinMaxScaler\n",
    "from sklearn.model_selection import GridSearchCV\n",
    "import numpy as np"
   ]
  },
  {
   "cell_type": "code",
   "execution_count": 20,
   "metadata": {},
   "outputs": [],
   "source": [
    "from sklearn.linear_model import Ridge\n",
    "from sklearn.ensemble import AdaBoostRegressor,BaggingRegressor,RandomForestRegressor"
   ]
  },
  {
   "cell_type": "code",
   "execution_count": 27,
   "metadata": {},
   "outputs": [],
   "source": [
    "# Create a pipeline\n",
    "pipe = Pipeline([('regressor', Ridge())])\n",
    "\n",
    "\n",
    "search_space = [{'regressor': [Ridge()],\n",
    "                 'regressor__alpha':[10**i for i in [1,0,-1,-2,-3]],\n",
    "                 'regressor__max_iter':np.arange(10,100,20)},\n",
    "                {'regressor': [AdaBoostRegressor()],\n",
    "                 'regressor__n_estimators': [50, 70, 100],\n",
    "                 'regressor__learning_rate': [0.1,0.01,0.001,0.0001]},\n",
    "               {'regressor': [RandomForestRegressor()],\n",
    "                 'regressor__n_estimators': [50, 70, 100],\n",
    "                 'regressor__max_depth': [5,10,15]},\n",
    "               {'regressor': [BaggingRegressor()],\n",
    "                 'regressor__n_estimators': [5,10,15],\n",
    "                 'regressor__max_features': [0.1,1.0,0.5],\n",
    "                 'regressor__max_samples': [0.1,1.0,0.5]}]"
   ]
  },
  {
   "cell_type": "code",
   "execution_count": 28,
   "metadata": {},
   "outputs": [],
   "source": [
    "from sklearn.model_selection import KFold"
   ]
  },
  {
   "cell_type": "code",
   "execution_count": 29,
   "metadata": {},
   "outputs": [],
   "source": [
    "kf = KFold(n_splits=5)"
   ]
  },
  {
   "cell_type": "code",
   "execution_count": 30,
   "metadata": {},
   "outputs": [],
   "source": [
    "reg = GridSearchCV(pipe, search_space, cv=kf)"
   ]
  },
  {
   "cell_type": "code",
   "execution_count": 31,
   "metadata": {},
   "outputs": [
    {
     "data": {
      "text/plain": [
       "GridSearchCV(cv=KFold(n_splits=5, random_state=None, shuffle=False),\n",
       "       error_score='raise',\n",
       "       estimator=Pipeline(memory=None,\n",
       "     steps=[('regressor', Ridge(alpha=1.0, copy_X=True, fit_intercept=True, max_iter=None,\n",
       "   normalize=False, random_state=None, solver='auto', tol=0.001))]),\n",
       "       fit_params=None, iid=True, n_jobs=1,\n",
       "       param_grid=[{'regressor': [Ridge(alpha=0.001, copy_X=True, fit_intercept=True, max_iter=10,\n",
       "   normalize=False, random_state=None, solver='auto', tol=0.001)], 'regressor__alpha': [10, 1, 0.1, 0.01, 0.001], 'regressor__max_iter': array([10, 30, 50, 70, 90])}, {'regressor': [AdaBoostRegressor(base_est...[5, 10, 15], 'regressor__max_features': [0.1, 1.0, 0.5], 'regressor__max_samples': [0.1, 1.0, 0.5]}],\n",
       "       pre_dispatch='2*n_jobs', refit=True, return_train_score='warn',\n",
       "       scoring=None, verbose=0)"
      ]
     },
     "execution_count": 31,
     "metadata": {},
     "output_type": "execute_result"
    }
   ],
   "source": [
    "reg.fit(X_train,y_train)"
   ]
  },
  {
   "cell_type": "code",
   "execution_count": 32,
   "metadata": {},
   "outputs": [
    {
     "data": {
      "text/plain": [
       "0.764346220268123"
      ]
     },
     "execution_count": 32,
     "metadata": {},
     "output_type": "execute_result"
    }
   ],
   "source": [
    "reg.score(X_test,y_test)"
   ]
  },
  {
   "cell_type": "code",
   "execution_count": 33,
   "metadata": {},
   "outputs": [
    {
     "data": {
      "text/plain": [
       "Pipeline(memory=None,\n",
       "     steps=[('regressor', Ridge(alpha=0.001, copy_X=True, fit_intercept=True, max_iter=10,\n",
       "   normalize=False, random_state=None, solver='auto', tol=0.001))])"
      ]
     },
     "execution_count": 33,
     "metadata": {},
     "output_type": "execute_result"
    }
   ],
   "source": [
    "reg.best_estimator_"
   ]
  },
  {
   "cell_type": "code",
   "execution_count": null,
   "metadata": {},
   "outputs": [],
   "source": []
  }
 ],
 "metadata": {
  "kernelspec": {
   "display_name": "Python 3",
   "language": "python",
   "name": "python3"
  },
  "language_info": {
   "codemirror_mode": {
    "name": "ipython",
    "version": 3
   },
   "file_extension": ".py",
   "mimetype": "text/x-python",
   "name": "python",
   "nbconvert_exporter": "python",
   "pygments_lexer": "ipython3",
   "version": "3.6.4"
  }
 },
 "nbformat": 4,
 "nbformat_minor": 2
}
